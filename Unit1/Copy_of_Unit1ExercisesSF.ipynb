{
  "nbformat": 4,
  "nbformat_minor": 0,
  "metadata": {
    "colab": {
      "provenance": [],
      "include_colab_link": true
    },
    "kernelspec": {
      "name": "python3",
      "display_name": "Python 3"
    },
    "language_info": {
      "name": "python"
    }
  },
  "cells": [
    {
      "cell_type": "markdown",
      "metadata": {
        "id": "view-in-github",
        "colab_type": "text"
      },
      "source": [
        "<a href=\"https://colab.research.google.com/github/CMDRZero/DataScienceFundamentalsClass/blob/main/Copy_of_Unit1ExercisesSF.ipynb\" target=\"_parent\"><img src=\"https://colab.research.google.com/assets/colab-badge.svg\" alt=\"Open In Colab\"/></a>"
      ]
    },
    {
      "cell_type": "markdown",
      "source": [
        "# Unit 1 Exercises: Data Structure Concepts\n",
        "\n",
        "The following questions will ask you to describe the various objects we learned about in the first Unit.\n",
        "\n",
        "I'm not giving you coding exercises, because we will learn all the coding technqiues we need as we move through the course.\n",
        "\n",
        "What I do need from you right now, is a conceptual understanding how how data is stored in our computer, when we use python."
      ],
      "metadata": {
        "id": "65OCktLjbZmA"
      }
    },
    {
      "cell_type": "markdown",
      "source": [
        "**Task1**:\n",
        "\n",
        "Describe the similarities and differences between an int and a float in python."
      ],
      "metadata": {
        "id": "bt0bWe1evLtv"
      }
    },
    {
      "cell_type": "markdown",
      "source": [
        "**Answer1**:\n",
        "\n",
        "The simple answer:\n",
        "Ints are arbitrarily precise and sufficient to work with countable numbers, while floats have limited precision (64 bit for the python float), and will accumulate error. However, they are much more suited for many computations. Both can represent amounts.\n",
        "\n",
        "On seperate note, I love that python ints are default BigInt, and im a little sad that the decimal or fraction library isnt default behavior."
      ],
      "metadata": {
        "id": "FW3KHt4yvt90"
      }
    },
    {
      "cell_type": "markdown",
      "source": [
        "**Task2**:\n",
        "\n",
        "Describe the similarities and differences between: strings, lists, and dicts."
      ],
      "metadata": {
        "id": "mJ_i6he5wwgr"
      }
    },
    {
      "cell_type": "markdown",
      "source": [
        "**Answer2**:\n",
        "\n",
        "Strings act as well, strings, they support concatenation and slicing like lists, but they also have methods for string specific operations, and has its own special format for inline declarations, which is `'...'`, `\"...\"`, and then the `'''...'''` and `\"\"\"...\"\"\"` (Plus all the string modifiers like r, f, b etc.)\n",
        "\n",
        "Dicts are the most different as they do not support indexing or slicing, but support keylookup via the same syntax as indexing, and have methods to combine or add or list keys or values, etc."
      ],
      "metadata": {
        "id": "iFu5BKyWw98T"
      }
    },
    {
      "cell_type": "markdown",
      "source": [
        "**Task3**:\n",
        "\n",
        "What is a numpy array? Why would we ever use one over a list or dict?"
      ],
      "metadata": {
        "id": "56v05s45yBHk"
      }
    },
    {
      "cell_type": "markdown",
      "source": [
        "**Answer3**:\n",
        "\n",
        "Numpy arrays are the data structure from the numpy library and allow very efficient operations like vector multiplcation, dot products, averages, reshaping, sorting, etc. Unlike python lists which can be variadic over types, numpy arrays trade trade that versatility for speed and ease of use in numeric contexts."
      ],
      "metadata": {
        "id": "eikgxyNzyLTY"
      }
    },
    {
      "cell_type": "markdown",
      "source": [
        "**Task4**:\n",
        "\n",
        "What is a pandas dataframe? Why would we ever want to use one over a numpy array?"
      ],
      "metadata": {
        "id": "RLaEQ5irywBl"
      }
    },
    {
      "cell_type": "markdown",
      "source": [
        "**Answer4**:\n",
        "\n",
        "Pandas dataframes either extend or compose numpy arrays, but either way, they get many of the same usefull features of numpy arrays, However, they have specific functions as well that lets them work very well as data frames. Eg, you can label coluns and rows and use various querying functions to get simular elements of subframes."
      ],
      "metadata": {
        "id": "5IkNlzYpy-HP"
      }
    },
    {
      "cell_type": "markdown",
      "source": [
        "**Task5**:\n",
        "\n",
        "What are for loops, and why would we ever use them?"
      ],
      "metadata": {
        "id": "khRn2d7qz1Y2"
      }
    },
    {
      "cell_type": "markdown",
      "source": [
        "**Answer5**:\n",
        "\n",
        "A for loop is a loop, but in python they work by iertatively grabbing values from their ietator and assigning it to the value on the right of the `for` keyword. Generally you'll just see this in the `for i in range(...)` syntax. Or you'll see it to iterate through values of some iterable, like a vector.\n",
        "\n",
        "Well, argueably these are more usefull than any of the previous things as its the backbone of those, however in the context of using python, you would use a forloop if there isnt a specific function you need and so you need to write the function itself. Also good for repeatedly calling another method."
      ],
      "metadata": {
        "id": "NAdVfRZB1d9J"
      }
    },
    {
      "cell_type": "code",
      "source": [],
      "metadata": {
        "id": "e6BNsaYXS6Ad"
      },
      "execution_count": null,
      "outputs": []
    }
  ]
}